{
 "cells": [
  {
   "cell_type": "code",
   "execution_count": 100,
   "id": "7bfa6560-76da-4fdc-8004-14702be47c8d",
   "metadata": {},
   "outputs": [],
   "source": [
    "import keras\n",
    "import tensorflow as tf\n",
    "from tensorflow import keras\n",
    "import numpy as np\n",
    "import matplotlib.pyplot as plt"
   ]
  },
  {
   "cell_type": "code",
   "execution_count": 101,
   "id": "880899b2-9d75-41bc-8b79-e6f94f5a5d44",
   "metadata": {},
   "outputs": [],
   "source": [
    "# Load dataset from tensorflow\n",
    "mnist = keras.datasets.mnist\n",
    "(x_train, y_train), (x_test, y_test) = mnist.load_data()"
   ]
  },
  {
   "cell_type": "code",
   "execution_count": 102,
   "id": "76f20dd9-cd18-4761-9734-21d93ddcfd40",
   "metadata": {},
   "outputs": [
    {
     "name": "stdout",
     "output_type": "stream",
     "text": [
      "(60000, 28, 28) (10000, 28, 28)\n",
      "(60000,) (10000,)\n"
     ]
    }
   ],
   "source": [
    "#Printing the shape sizes\n",
    "print(x_train.shape, x_test.shape)\n",
    "print(y_train.shape, y_test.shape)"
   ]
  },
  {
   "cell_type": "code",
   "execution_count": 103,
   "id": "c554c2fc-764c-40ff-b934-a16e2e2a8c25",
   "metadata": {},
   "outputs": [
    {
     "data": {
      "text/plain": [
       "<matplotlib.image.AxesImage at 0x205a02b0a10>"
      ]
     },
     "execution_count": 103,
     "metadata": {},
     "output_type": "execute_result"
    },
    {
     "data": {
      "image/png": "[encoded data removed]",
      "text/plain": [
       "<Figure size 480x480 with 1 Axes>"
      ]
     },
     "metadata": {},
     "output_type": "display_data"
    }
   ],
   "source": [
    "#Plotting the shape of the stored value\n",
    "plt.matshow(x_test[7000])"
   ]
  },
  {
   "cell_type": "code",
   "execution_count": 104,
   "id": "5df819d1-ed2b-43cc-a79f-88fb03c63ac1",
   "metadata": {},
   "outputs": [
    {
     "name": "stdout",
     "output_type": "stream",
     "text": [
      "1\n"
     ]
    }
   ],
   "source": [
    "print(y_test[7000])"
   ]
  },
  {
   "cell_type": "code",
   "execution_count": 105,
   "id": "c6a61c4c-92ce-4274-bdfc-d11ac6ce753d",
   "metadata": {},
   "outputs": [],
   "source": [
    "x_train, x_test = x_train / 255.0, x_test / 255.0 #gray scale image correction"
   ]
  },
  {
   "cell_type": "code",
   "execution_count": 106,
   "id": "6b5d4f99-2b64-4ac0-9794-74625d99f89a",
   "metadata": {},
   "outputs": [],
   "source": [
    "x_train = x_train.reshape(-1, 28, 28, 1) #60k samples of size 28x28 and channel no. 1\n",
    "x_test = x_test.reshape(-1, 28, 28, 1) #10k samples"
   ]
  },
  {
   "cell_type": "code",
   "execution_count": 107,
   "id": "bbb1d21f-9c94-4ffe-897a-86c57242437e",
   "metadata": {},
   "outputs": [],
   "source": [
    "model = keras.Sequential([\n",
    "    #Convolution layer (Extracts features from images)\n",
    "    keras.layers.Conv2D(32, (3,3), activation='relu', input_shape=(28,28,1)),   \n",
    "\n",
    "    #Max Pooling Layer (Reduces Image Size)\n",
    "    keras.layers.MaxPooling2D(2,2),\n",
    "\n",
    "    #Flatten Layer (Converts image data into a 1D vector)\n",
    "    keras.layers.Flatten(),\n",
    "\n",
    "    #Fully Connected Layer (Processes extracted features)\n",
    "    keras.layers.Dense(128, activation='relu'),\n",
    "\n",
    "    #Output layer (10 classes for digits 0-9)\n",
    "    keras.layers.Dense(10, activation='softmax')\n",
    "])"
   ]
  },
  {
   "cell_type": "code",
   "execution_count": 108,
   "id": "b41703a9-8779-45e7-bad8-1555bad46621",
   "metadata": {},
   "outputs": [],
   "source": [
    "#Compile the model\n",
    "model.compile(optimizer='adam', loss= 'sparse_categorical_crossentropy', metrics=['accuracy'])"
   ]
  },
  {
   "cell_type": "code",
   "execution_count": 109,
   "id": "d8bed904-1bd5-4ae7-9444-c26f332d882f",
   "metadata": {},
   "outputs": [
    {
     "name": "stdout",
     "output_type": "stream",
     "text": [
      "Epoch 1/8\n",
      "\u001b[1m1500/1500\u001b[0m \u001b[32m━━━━━━━━━━━━━━━━━━━━\u001b[0m\u001b[37m\u001b[0m \u001b[1m14s\u001b[0m 9ms/step - accuracy: 0.9033 - loss: 0.3339 - val_accuracy: 0.9804 - val_loss: 0.0710\n",
      "Epoch 2/8\n",
      "\u001b[1m1500/1500\u001b[0m \u001b[32m━━━━━━━━━━━━━━━━━━━━\u001b[0m\u001b[37m\u001b[0m \u001b[1m13s\u001b[0m 8ms/step - accuracy: 0.9809 - loss: 0.0609 - val_accuracy: 0.9793 - val_loss: 0.0656\n",
      "Epoch 3/8\n",
      "\u001b[1m1500/1500\u001b[0m \u001b[32m━━━━━━━━━━━━━━━━━━━━\u001b[0m\u001b[37m\u001b[0m \u001b[1m13s\u001b[0m 8ms/step - accuracy: 0.9887 - loss: 0.0355 - val_accuracy: 0.9841 - val_loss: 0.0543\n",
      "Epoch 4/8\n",
      "\u001b[1m1500/1500\u001b[0m \u001b[32m━━━━━━━━━━━━━━━━━━━━\u001b[0m\u001b[37m\u001b[0m \u001b[1m12s\u001b[0m 8ms/step - accuracy: 0.9922 - loss: 0.0238 - val_accuracy: 0.9843 - val_loss: 0.0543\n",
      "Epoch 5/8\n",
      "\u001b[1m1500/1500\u001b[0m \u001b[32m━━━━━━━━━━━━━━━━━━━━\u001b[0m\u001b[37m\u001b[0m \u001b[1m13s\u001b[0m 8ms/step - accuracy: 0.9951 - loss: 0.0160 - val_accuracy: 0.9858 - val_loss: 0.0518\n",
      "Epoch 6/8\n",
      "\u001b[1m1500/1500\u001b[0m \u001b[32m━━━━━━━━━━━━━━━━━━━━\u001b[0m\u001b[37m\u001b[0m \u001b[1m20s\u001b[0m 8ms/step - accuracy: 0.9963 - loss: 0.0108 - val_accuracy: 0.9862 - val_loss: 0.0517\n",
      "Epoch 7/8\n",
      "\u001b[1m1500/1500\u001b[0m \u001b[32m━━━━━━━━━━━━━━━━━━━━\u001b[0m\u001b[37m\u001b[0m \u001b[1m12s\u001b[0m 8ms/step - accuracy: 0.9978 - loss: 0.0072 - val_accuracy: 0.9861 - val_loss: 0.0563\n",
      "Epoch 8/8\n",
      "\u001b[1m1500/1500\u001b[0m \u001b[32m━━━━━━━━━━━━━━━━━━━━\u001b[0m\u001b[37m\u001b[0m \u001b[1m12s\u001b[0m 8ms/step - accuracy: 0.9977 - loss: 0.0071 - val_accuracy: 0.9872 - val_loss: 0.0558\n"
     ]
    },
    {
     "data": {
      "text/plain": [
       "<keras.src.callbacks.history.History at 0x205a00b6c90>"
      ]
     },
     "execution_count": 109,
     "metadata": {},
     "output_type": "execute_result"
    }
   ],
   "source": [
    "#Train the model\n",
    "model.fit(x_train, y_train, epochs=8, batch_size = 32, validation_split=0.2)"
   ]
  },
  {
   "cell_type": "code",
   "execution_count": 113,
   "id": "66c0bc09-7cac-4304-8be1-f8fe319d7dbf",
   "metadata": {},
   "outputs": [
    {
     "name": "stdout",
     "output_type": "stream",
     "text": [
      "\u001b[1m313/313\u001b[0m \u001b[32m━━━━━━━━━━━━━━━━━━━━\u001b[0m\u001b[37m\u001b[0m \u001b[1m1s\u001b[0m 2ms/step - accuracy: 0.9806 - loss: 0.0630\n",
      "Test Loss : , 0.0538\n",
      "Test Accuracy : , 0.9847\n"
     ]
    }
   ],
   "source": [
    "#Evaluate the model on the test set\n",
    "\n",
    "loss, accuracy = model.evaluate(x_test, y_test)\n",
    "print(f\"Test Loss : , {loss:.4f}\")\n",
    "print(f\"Test Accuracy : , {accuracy:.4f}\")"
   ]
  },
  {
   "cell_type": "markdown",
   "id": "d2aa8f4e-1202-40d1-842e-1b2581bd6e8b",
   "metadata": {},
   "source": [
    "### Predictions"
   ]
  },
  {
   "cell_type": "code",
   "execution_count": 115,
   "id": "7301df6f-b738-449b-b9d0-c7ae2a10bcba",
   "metadata": {},
   "outputs": [
    {
     "name": "stdout",
     "output_type": "stream",
     "text": [
      "\u001b[1m313/313\u001b[0m \u001b[32m━━━━━━━━━━━━━━━━━━━━\u001b[0m\u001b[37m\u001b[0m \u001b[1m1s\u001b[0m 2ms/step\n"
     ]
    },
    {
     "data": {
      "image/png": "[encoded data removed]",
      "text/plain": [
       "<Figure size 640x480 with 1 Axes>"
      ]
     },
     "metadata": {},
     "output_type": "display_data"
    }
   ],
   "source": [
    "predictions = model.predict(x_test)\n",
    "\n",
    "#Pick an image from test set\n",
    "index = 7000 #Change this value to test other images\n",
    "plt.imshow(x_test[index].reshape(28,28), cmap='gray')\n",
    "\n",
    "#Get the predicted label\n",
    "predicted_label = np.argmax(predictions[index])\n",
    "plt.title(f\"Predicted Digit : {predicted_label}\")\n",
    "plt.show()"
   ]
  },
  {
   "cell_type": "code",
   "execution_count": null,
   "id": "40222fa7-a058-4998-9403-a468684276fb",
   "metadata": {},
   "outputs": [],
   "source": []
  }
 ],
 "metadata": {
  "kernelspec": {
   "display_name": "Python 3 (ipykernel)",
   "language": "python",
   "name": "python3"
  },
  "language_info": {
   "codemirror_mode": {
    "name": "ipython",
    "version": 3
   },
   "file_extension": ".py",
   "mimetype": "text/x-python",
   "name": "python",
   "nbconvert_exporter": "python",
   "pygments_lexer": "ipython3",
   "version": "3.11.7"
  }
 },
 "nbformat": 4,
 "nbformat_minor": 5
}
